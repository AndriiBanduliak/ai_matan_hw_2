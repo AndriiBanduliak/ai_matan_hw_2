{
  "nbformat": 4,
  "nbformat_minor": 0,
  "metadata": {
    "colab": {
      "provenance": []
    },
    "kernelspec": {
      "name": "python3",
      "display_name": "Python 3"
    },
    "language_info": {
      "name": "python"
    }
  },
  "cells": [
    {
      "cell_type": "markdown",
      "source": [],
      "metadata": {
        "id": "nOEyKFdcGycu"
      }
    },
    {
      "cell_type": "markdown",
      "source": [
        "Вероятность того, что стрелок попадет в мишень, выстрелив один раз, равна 0.8. Стрелок выстрелил 100 раз. Найдите вероятность того, что стрелок попадет в цель ровно 85 раз."
      ],
      "metadata": {
        "id": "Ovmyee2oG0Jp"
      }
    },
    {
      "cell_type": "code",
      "source": [
        "import scipy.stats as stats\n",
        "\n",
        "prob = 0.8\n",
        "shots = 100\n",
        "hits = 85\n",
        "\n",
        "result = stats.binom.pmf(k=hits, n=shots, p=prob)\n",
        "print(f\"{result:.4f}\")\n"
      ],
      "metadata": {
        "colab": {
          "base_uri": "https://localhost:8080/"
        },
        "id": "Zq6ySePGG1KV",
        "outputId": "90655620-cf7f-4d55-e27c-59a679c40e14"
      },
      "execution_count": 3,
      "outputs": [
        {
          "output_type": "stream",
          "name": "stdout",
          "text": [
            "0.0481\n"
          ]
        }
      ]
    },
    {
      "cell_type": "markdown",
      "source": [
        "Вероятность того, что лампочка перегорит в течение первого дня эксплуатации, равна 0.0004. В жилом комплексе после ремонта в один день включили 5000 новых лампочек. Какова вероятность, что ни одна из них не перегорит в первый день? Какова вероятность, что перегорят ровно две?\n",
        "Монету подбросили 144 раза. Какова вероятность, что орел выпадет ровно 70 раз?"
      ],
      "metadata": {
        "id": "-gdsiMlQHY8c"
      }
    },
    {
      "cell_type": "code",
      "source": [
        "import math\n",
        "\n",
        "p = 0.0004\n",
        "n = 5000\n",
        "result = math.comb(n, 0) * (p**0) * ((1-p)**n)\n",
        "print(f\"Probability of no light bulb failing in the first day: {result:.4f} \")\n",
        " "
      ],
      "metadata": {
        "colab": {
          "base_uri": "https://localhost:8080/"
        },
        "id": "_K4ai5wHHbwk",
        "outputId": "f35a9097-01fd-40c9-b034-9fe4c682cdc1"
      },
      "execution_count": 5,
      "outputs": [
        {
          "output_type": "stream",
          "name": "stdout",
          "text": [
            "Probability of no light bulb failing in the first day: 0.1353 \n"
          ]
        }
      ]
    },
    {
      "cell_type": "code",
      "source": [
        "import math\n",
        "\n",
        "p = 0.0004\n",
        "n = 5000\n",
        "result = math.comb(n, 2) * (p**2) * ((1-p)**(n-2))\n",
        "print(f\"Probability of exactly 2 light bulbs failing in the first day: {result:.4f}\")\n"
      ],
      "metadata": {
        "colab": {
          "base_uri": "https://localhost:8080/"
        },
        "id": "_t2zH0gsIIw-",
        "outputId": "dfe87c3f-d70c-496d-8c60-24cb1317c1ec"
      },
      "execution_count": 6,
      "outputs": [
        {
          "output_type": "stream",
          "name": "stdout",
          "text": [
            "Probability of exactly 2 light bulbs failing in the first day: 0.2707\n"
          ]
        }
      ]
    },
    {
      "cell_type": "markdown",
      "source": [
        "Монету подбросили 144 раза. Какова вероятность, что орел выпадет ровно 70 раз?"
      ],
      "metadata": {
        "id": "cZLif0G1IuHJ"
      }
    },
    {
      "cell_type": "code",
      "source": [
        "import math\n",
        "\n",
        "p = 0.5\n",
        "n = 144\n",
        "k = 70\n",
        "result = math.comb(n, k) * (p**k) * ((1-p)**(n-k))\n",
        "print(f\"Probability of getting heads exactly 70 times out of 144 tosses: {result:.4f}\")\n"
      ],
      "metadata": {
        "colab": {
          "base_uri": "https://localhost:8080/"
        },
        "id": "2N7uTWbBIwQu",
        "outputId": "31f42030-7758-434d-c651-42b48f7ef75c"
      },
      "execution_count": 8,
      "outputs": [
        {
          "output_type": "stream",
          "name": "stdout",
          "text": [
            "Probability of getting heads exactly 70 times out of 144 tosses: 0.0628\n"
          ]
        }
      ]
    },
    {
      "cell_type": "markdown",
      "source": [
        "В первом ящике находится 10 мячей, из которых 7 - белые. Во втором ящике - 11 мячей, из которых 9 белых. Из каждого ящика вытаскивают случайным образом по два мяча. Какова вероятность того, что все мячи белые? Какова вероятность того, что ровно два мяча белые? Какова вероятность того, что хотя бы один мяч белый?\n"
      ],
      "metadata": {
        "id": "q87iG5bHI9iD"
      }
    },
    {
      "cell_type": "code",
      "source": [
        "from math import comb\n",
        "\n",
        "p_all_white = comb(7, 2) * comb(9, 2) / comb(20, 4)\n",
        "p_two_white = comb(7, 2) * comb(9, 2) / comb(20, 4) + comb(3, 2) * comb(9, 2) / comb(20, 4) + comb(7, 2) * comb(2, 2) / comb(20, 4)\n",
        "p_at_least_one_white = 1 - comb(3, 2) * comb(2, 2) / comb(20, 4)\n",
        "\n",
        "print(f'Вероятность того, что все мячи белые: {p_all_white:.2f}')\n",
        "print(f'Вероятность того, что ровно два мяча белые: {p_two_white:.2f}')\n",
        "print(f'Вероятность того, что хотя бы один мяч белый: {p_at_least_one_white:.2f}')\n",
        "\n"
      ],
      "metadata": {
        "colab": {
          "base_uri": "https://localhost:8080/"
        },
        "id": "2RV7UhsQI-O1",
        "outputId": "bd1d5ef2-84c6-4dcb-93e5-2d693a8b3d75"
      },
      "execution_count": 11,
      "outputs": [
        {
          "output_type": "stream",
          "name": "stdout",
          "text": [
            "Вероятность того, что все мячи белые: 0.16\n",
            "Вероятность того, что ровно два мяча белые: 0.18\n",
            "Вероятность того, что хотя бы один мяч белый: 1.00\n"
          ]
        }
      ]
    }
  ]
}